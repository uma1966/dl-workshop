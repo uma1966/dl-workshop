{
 "cells": [
  {
   "cell_type": "markdown",
   "metadata": {},
   "source": [
    "# AWS Rekognition API"
   ]
  },
  {
   "cell_type": "markdown",
   "metadata": {},
   "source": [
    "### Dieses Jupyter notebook zeigt, wie man mit dem Amazon Web Services (AWS) Rekognition Service / API Bilder klassifizieren kann."
   ]
  },
  {
   "cell_type": "markdown",
   "metadata": {},
   "source": [
    "Um dieses Notebook zu verwenden benötigt man\n",
    "\n",
    "* einen AWS Account\n",
    "* Credentials (AWS Access ID und AWS Secret Access Key) für den Zugriff auf das API\n",
    "  * die können über IAM in der AWS Console eingerichtet werden\n",
    "* Einrichten dieser Credentials auf dem Jupyter Server:\n",
    "  * AWS CLI installieren (z.B. mit `sudo apt install awscli` auf einem Ubuntu System)\n",
    "  * Aufruf von `aws configure`, um die Credentials zu konfigurieren:\n",
    "    ```\n",
    "    AWS Access Key ID [None]: ************************\n",
    "AWS Secret Access Key [None]: *************************************\n",
    "Default region name [None]: eu-west-1\n",
    "Default output format [None]: text\n",
    "    ```\n",
    "\n",
    "Siehe auch [Getting Started with Amazon Rekognition](http://docs.aws.amazon.com/rekognition/latest/dg/getting-started.html).\n",
    "\n",
    "Ausserdem muss auf dem Jupyter Server in der verwendeten Python Umgebung das Paket [boto3](http://boto3.readthedocs.io/en/latest/guide/quickstart.html) installiert sein, welches schlicht die Python-Implementierung des Amazon APIs ist.\n",
    "\n",
    "Beispiele für die Verwendung des APIs in Python finden sich in [GitHub](https://gist.github.com/alexcasalboni/0f21a1889f09760f8981b643326730ff)."
   ]
  },
  {
   "cell_type": "code",
   "execution_count": null,
   "metadata": {
    "collapsed": false
   },
   "outputs": [],
   "source": [
    "import os, os.path, random\n",
    "import boto3\n",
    "import cv2\n",
    "import operator\n",
    "import numpy as np\n",
    "from __future__ import print_function\n",
    "\n",
    "# Import library to display results\n",
    "import matplotlib.pyplot as plt\n",
    "%matplotlib inline \n"
   ]
  },
  {
   "cell_type": "code",
   "execution_count": null,
   "metadata": {
    "collapsed": false
   },
   "outputs": [],
   "source": [
    "# Variables\n",
    "aws_region = 'eu-west-1'     # AWS Region\n",
    "path = 'data/test/unknown'   # Where the file will be loaded from\n"
   ]
  },
  {
   "cell_type": "code",
   "execution_count": null,
   "metadata": {
    "collapsed": false
   },
   "outputs": [],
   "source": [
    "# Load random raw image file into memory\n",
    "files = os.listdir(path)\n",
    "pathToFileInDisk = os.path.join(path,files[random.randrange(0, len(files))])\n",
    "with open( pathToFileInDisk, 'rb' ) as f:\n",
    "    image_data = f.read()\n",
    "\n",
    "# Call API\n",
    "client = boto3.client('rekognition',aws_region)\n",
    "response = client.detect_labels(Image={'Bytes': image_data }, MinConfidence=10)\n",
    "\n",
    "# Show result\n",
    "if response is not None:\n",
    "    # Load the original image, fetched from the URL\n",
    "    data8uint = np.fromstring( image_data, np.uint8 ) # Convert string to an unsigned int array\n",
    "    img = cv2.cvtColor( cv2.imdecode( data8uint, cv2.IMREAD_COLOR ), cv2.COLOR_BGR2RGB )\n",
    "    ig, ax = plt.subplots()\n",
    "    ax.imshow( img )\n",
    "    print('Detected labels for ' + pathToFileInDisk)\n",
    "    for label in response['Labels']:\n",
    "        print(label['Name'] + ' : ' + str(label['Confidence']))\n"
   ]
  }
 ],
 "metadata": {
  "anaconda-cloud": {},
  "kernelspec": {
   "display_name": "Python [default]",
   "language": "python",
   "name": "python2"
  },
  "language_info": {
   "codemirror_mode": {
    "name": "ipython",
    "version": 2
   },
   "file_extension": ".py",
   "mimetype": "text/x-python",
   "name": "python",
   "nbconvert_exporter": "python",
   "pygments_lexer": "ipython2",
   "version": "2.7.12"
  }
 },
 "nbformat": 4,
 "nbformat_minor": 0
}
